{
 "cells": [
  {
   "cell_type": "markdown",
   "metadata": {
    "deletable": true,
    "editable": true
   },
   "source": [
    "# Euler's e"
   ]
  },
  {
   "cell_type": "markdown",
   "metadata": {
    "deletable": true,
    "editable": true
   },
   "source": [
    "Jacob Bernoulli discovered this constant in 1683 by studying a question about compound interest:[5]\n",
    "\n",
    "```An account starts with 1.00 and pays 100 percent interest per year. If the interest is credited once, at the end of the year, the value of the account at year-end will be 2.00. What happens if the interest is computed and credited more frequently during the year?```\n",
    "\n",
    "If the interest is credited twice in the year, the interest rate for each 6 months will be 50%, so the initial 1 is multiplied by 1.5 twice, yielding 1.00 × 1.5^2 = 2.25 at the end of the year. Compounding quarterly yields 1.00 × 1.25^4 = 2.4414..., and compounding monthly yields 1.00 × (1 + 1/12)^12 = 2.613035... If there are n compounding intervals, the interest for each interval will be 100%/n and the value at the end of the year will be 1.00×(1 + 1/n)^n."
   ]
  },
  {
   "cell_type": "markdown",
   "metadata": {
    "deletable": true,
    "editable": true
   },
   "source": [
    "Eulers's e can be expressed as limit:\n",
    "<img src=\"images/e76702c87ce1c681ed1da8213125963524ca0ee6.svg\" width=\"200\" />\n",
    "\n",
    "and as series: \n",
    "<img src=\"images/2019b8b95ec12a0b8cdc76c92583bc574d37a863.svg\" width=\"120\" />"
   ]
  },
  {
   "cell_type": "markdown",
   "metadata": {
    "deletable": true,
    "editable": true
   },
   "source": [
    "#### Now let's calculate an approximation of e"
   ]
  },
  {
   "cell_type": "code",
   "execution_count": 60,
   "metadata": {
    "collapsed": false,
    "deletable": true,
    "editable": true
   },
   "outputs": [
    {
     "name": "stdout",
     "output_type": "stream",
     "text": [
      "2.7182820532347876\n",
      "2.718281828459045\n"
     ]
    }
   ],
   "source": [
    "# use the limit representation\n",
    "n = 10**10\n",
    "e = (1 + 1/n)**n\n",
    "print(e)\n",
    "\n",
    "# Compare to numpy\n",
    "print(np.e)"
   ]
  },
  {
   "cell_type": "code",
   "execution_count": 63,
   "metadata": {
    "collapsed": false,
    "deletable": true,
    "editable": true
   },
   "outputs": [
    {
     "name": "stdout",
     "output_type": "stream",
     "text": [
      "2.7182818284590455\n",
      "2.718281828459045\n"
     ]
    }
   ],
   "source": [
    "# use the limit representation\n",
    "n = 1000\n",
    "e = 0\n",
    "for i in range(n):\n",
    "    e += 1 / np.math.factorial(i)\n",
    "print(e)\n",
    "\n",
    "# Compare to numpy\n",
    "print(np.e)"
   ]
  },
  {
   "cell_type": "markdown",
   "metadata": {
    "deletable": true,
    "editable": true
   },
   "source": [
    "### Continuous compounding\n",
    "<img src=\"images/Continuous-Compounding-Formula.png\" width=\"100\" />\n",
    "```where:\n",
    "P: initial investment\n",
    "r: annual return\n",
    "t: years```\n",
    "\n",
    "<p/>\n",
    "The effect of earning 20% annual interest on an initial 1.000€ investment at various compounding frequencies\n",
    "\n",
    "<img src=\"images/Compound_Interest_with_Varying_Frequencies.png\" width=\"800\" />"
   ]
  }
 ],
 "metadata": {
  "kernelspec": {
   "display_name": "Python 3",
   "language": "python",
   "name": "python3"
  },
  "language_info": {
   "codemirror_mode": {
    "name": "ipython",
    "version": 3
   },
   "file_extension": ".py",
   "mimetype": "text/x-python",
   "name": "python",
   "nbconvert_exporter": "python",
   "pygments_lexer": "ipython3",
   "version": "3.6.4"
  }
 },
 "nbformat": 4,
 "nbformat_minor": 2
}
