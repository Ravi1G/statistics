{
 "cells": [
  {
   "cell_type": "markdown",
   "metadata": {
    "deletable": true,
    "editable": true
   },
   "source": [
    "# Central Limit Theorem\n",
    "\n",
    "```The sum of random variables that have the same distribution and are not dependent on each other approaches a normal distribution.```\n",
    "\n",
    "The theorem is a key (\"central\") concept in probability theory because it implies that probabilistic and statistical methods that work for normal distributions can be applicable to many problems involving other types of distributions"
   ]
  },
  {
   "cell_type": "code",
   "execution_count": 235,
   "metadata": {
    "collapsed": true,
    "deletable": true,
    "editable": true
   },
   "outputs": [],
   "source": [
    "from scipy.stats import lognorm\n",
    "import matplotlib.pyplot as plt\n",
    "import numpy as np\n",
    "\n",
    "%matplotlib inline"
   ]
  },
  {
   "cell_type": "code",
   "execution_count": 295,
   "metadata": {
    "collapsed": true,
    "deletable": true,
    "editable": true
   },
   "outputs": [],
   "source": [
    "def print_statistics(sample):\n",
    "    print('mean', np.mean(sample))\n",
    "    print('std', np.std(sample))"
   ]
  },
  {
   "cell_type": "markdown",
   "metadata": {
    "deletable": true,
    "editable": true
   },
   "source": [
    "Let's create a population of 1000 individuals, which are log normally distributed"
   ]
  },
  {
   "cell_type": "code",
   "execution_count": 236,
   "metadata": {
    "collapsed": false,
    "deletable": true,
    "editable": true
   },
   "outputs": [],
   "source": [
    "s = 0.95\n",
    "population = lognorm.rvs(s, size=1000)"
   ]
  },
  {
   "cell_type": "code",
   "execution_count": 287,
   "metadata": {
    "collapsed": false,
    "deletable": true,
    "editable": true
   },
   "outputs": [
    {
     "data": {
      "text/plain": [
       "(array([206., 237., 155., 111.,  80.,  52.,  36.,  25.,  17.,  14.,   9.,\n",
       "          6.,   9.,   6.,   6.,   4.,   7.,   3.,   0.,   1.,   3.,   0.,\n",
       "          2.,   3.,   1.,   1.,   0.,   1.,   0.,   0.,   0.,   2.,   0.,\n",
       "          1.,   0.,   0.,   0.,   0.,   1.,   0.,   0.,   0.,   0.,   0.,\n",
       "          0.,   0.,   0.,   0.,   0.,   1.]),\n",
       " array([ 0.03940747,  0.4640736 ,  0.88873974,  1.31340587,  1.73807201,\n",
       "         2.16273814,  2.58740427,  3.01207041,  3.43673654,  3.86140267,\n",
       "         4.28606881,  4.71073494,  5.13540108,  5.56006721,  5.98473334,\n",
       "         6.40939948,  6.83406561,  7.25873175,  7.68339788,  8.10806401,\n",
       "         8.53273015,  8.95739628,  9.38206241,  9.80672855, 10.23139468,\n",
       "        10.65606082, 11.08072695, 11.50539308, 11.93005922, 12.35472535,\n",
       "        12.77939148, 13.20405762, 13.62872375, 14.05338989, 14.47805602,\n",
       "        14.90272215, 15.32738829, 15.75205442, 16.17672056, 16.60138669,\n",
       "        17.02605282, 17.45071896, 17.87538509, 18.30005122, 18.72471736,\n",
       "        19.14938349, 19.57404963, 19.99871576, 20.42338189, 20.84804803,\n",
       "        21.27271416]),\n",
       " <a list of 50 Patch objects>)"
      ]
     },
     "execution_count": 287,
     "metadata": {},
     "output_type": "execute_result"
    },
    {
     "data": {
      "image/png": "[encoded data removed]",
      "text/plain": [
       "<Figure size 432x288 with 1 Axes>"
      ]
     },
     "metadata": {},
     "output_type": "display_data"
    }
   ],
   "source": [
    "plt.hist(r, bins=50)"
   ]
  },
  {
   "cell_type": "code",
   "execution_count": 296,
   "metadata": {
    "collapsed": false,
    "deletable": true,
    "editable": true
   },
   "outputs": [
    {
     "name": "stdout",
     "output_type": "stream",
     "text": [
      "mean 1.6156915321575602\n",
      "std 2.362746585006881\n"
     ]
    }
   ],
   "source": [
    "print_statistics(population)"
   ]
  },
  {
   "cell_type": "markdown",
   "metadata": {
    "deletable": true,
    "editable": true
   },
   "source": [
    "Now we draw 1000 times samples of size 100 and add them together."
   ]
  },
  {
   "cell_type": "code",
   "execution_count": 288,
   "metadata": {
    "collapsed": false,
    "deletable": true,
    "editable": true
   },
   "outputs": [],
   "source": [
    "sample_size = 100\n",
    "sum_samples = []\n",
    "for i in range(10000):\n",
    "    sample = np.random.choice(popluation, sample_size)\n",
    "    sum_samples.append(np.sum(sample))"
   ]
  },
  {
   "cell_type": "code",
   "execution_count": 289,
   "metadata": {
    "collapsed": false,
    "deletable": true,
    "editable": true
   },
   "outputs": [
    {
     "data": {
      "text/plain": [
       "(array([  2.,   3.,   5.,  20.,  23.,  30.,  51.,  76., 137., 179., 206.,\n",
       "        294., 368., 413., 496., 492., 509., 549., 559., 556., 568., 584.,\n",
       "        498., 519., 404., 420., 376., 302., 270., 198., 186., 136., 129.,\n",
       "        108.,  74.,  68.,  49.,  35.,  28.,  21.,  15.,  15.,   4.,   7.,\n",
       "          6.,   6.,   1.,   2.,   2.,   1.]),\n",
       " array([ 99.10836761, 101.61583828, 104.12330894, 106.63077961,\n",
       "        109.13825027, 111.64572094, 114.1531916 , 116.66066227,\n",
       "        119.16813293, 121.67560359, 124.18307426, 126.69054492,\n",
       "        129.19801559, 131.70548625, 134.21295692, 136.72042758,\n",
       "        139.22789825, 141.73536891, 144.24283957, 146.75031024,\n",
       "        149.2577809 , 151.76525157, 154.27272223, 156.7801929 ,\n",
       "        159.28766356, 161.79513423, 164.30260489, 166.81007556,\n",
       "        169.31754622, 171.82501688, 174.33248755, 176.83995821,\n",
       "        179.34742888, 181.85489954, 184.36237021, 186.86984087,\n",
       "        189.37731154, 191.8847822 , 194.39225286, 196.89972353,\n",
       "        199.40719419, 201.91466486, 204.42213552, 206.92960619,\n",
       "        209.43707685, 211.94454752, 214.45201818, 216.95948885,\n",
       "        219.46695951, 221.97443017, 224.48190084]),\n",
       " <a list of 50 Patch objects>)"
      ]
     },
     "execution_count": 289,
     "metadata": {},
     "output_type": "execute_result"
    },
    {
     "data": {
      "image/png": "[encoded data removed]",
      "text/plain": [
       "<Figure size 432x288 with 1 Axes>"
      ]
     },
     "metadata": {},
     "output_type": "display_data"
    }
   ],
   "source": [
    "plt.hist(sum_samples, bins=50)"
   ]
  },
  {
   "cell_type": "markdown",
   "metadata": {
    "deletable": true,
    "editable": true
   },
   "source": [
    "We see the the distribution of the sum of samples approaches a normal distribution.\n",
    "\n",
    "### The mean of the samples  approaches also a normal distribution"
   ]
  },
  {
   "cell_type": "code",
   "execution_count": 297,
   "metadata": {
    "collapsed": false,
    "deletable": true,
    "editable": true
   },
   "outputs": [],
   "source": [
    "sample_size = 100\n",
    "\n",
    "avg_samples = []\n",
    "for i in range(10000):\n",
    "    sample = np.random.choice(population, sample_size)\n",
    "    avg_samples.append(np.mean(sample))"
   ]
  },
  {
   "cell_type": "code",
   "execution_count": 298,
   "metadata": {
    "collapsed": false,
    "deletable": true,
    "editable": true
   },
   "outputs": [
    {
     "data": {
      "text/plain": [
       "(array([  3.,  12.,  24.,  40.,  95., 136., 205., 275., 392., 483., 626.,\n",
       "        683., 734., 726., 729., 704., 594., 607., 493., 412., 347., 303.,\n",
       "        259., 251., 193., 137., 127., 103.,  71.,  60.,  54.,  26.,  25.,\n",
       "         17.,  15.,  12.,   8.,   3.,   5.,   3.,   2.,   2.,   0.,   1.,\n",
       "          0.,   0.,   0.,   2.,   0.,   1.]),\n",
       " array([0.99431768, 1.03433402, 1.07435036, 1.1143667 , 1.15438304,\n",
       "        1.19439939, 1.23441573, 1.27443207, 1.31444841, 1.35446475,\n",
       "        1.39448109, 1.43449743, 1.47451377, 1.51453011, 1.55454646,\n",
       "        1.5945628 , 1.63457914, 1.67459548, 1.71461182, 1.75462816,\n",
       "        1.7946445 , 1.83466084, 1.87467718, 1.91469353, 1.95470987,\n",
       "        1.99472621, 2.03474255, 2.07475889, 2.11477523, 2.15479157,\n",
       "        2.19480791, 2.23482425, 2.27484059, 2.31485694, 2.35487328,\n",
       "        2.39488962, 2.43490596, 2.4749223 , 2.51493864, 2.55495498,\n",
       "        2.59497132, 2.63498766, 2.67500401, 2.71502035, 2.75503669,\n",
       "        2.79505303, 2.83506937, 2.87508571, 2.91510205, 2.95511839,\n",
       "        2.99513473]),\n",
       " <a list of 50 Patch objects>)"
      ]
     },
     "execution_count": 298,
     "metadata": {},
     "output_type": "execute_result"
    },
    {
     "data": {
      "image/png": "[encoded data removed]",
      "text/plain": [
       "<Figure size 432x288 with 1 Axes>"
      ]
     },
     "metadata": {},
     "output_type": "display_data"
    }
   ],
   "source": [
    "plt.hist(avg_samples, bins=50)"
   ]
  },
  {
   "cell_type": "code",
   "execution_count": 299,
   "metadata": {
    "collapsed": false,
    "deletable": true,
    "editable": true
   },
   "outputs": [
    {
     "name": "stdout",
     "output_type": "stream",
     "text": [
      "mean 1.6130301750541185\n",
      "std 0.23630774156161513\n"
     ]
    }
   ],
   "source": [
    "print_statistics(avg_samples)"
   ]
  },
  {
   "cell_type": "markdown",
   "metadata": {
    "deletable": true,
    "editable": true
   },
   "source": [
    "### Important property\n",
    "\n",
    "SE = sigma/sqrt(n), where \n",
    "* SE: Standard error (standard deviation of the sampling distribution)\n",
    "* sigma: standard deviation of the population\n",
    "* n: sample size\n",
    "\n",
    "<p/>\n",
    "\n",
    "<div style=\"width: 600px;\">![](images/IllustrationCentralTheorem.png)</div>\n",
    "\n",
    "By the law of large numbers, the sample averages converge in probability and almost surely to the expected value µ as n → ∞. The classical central limit theorem describes the size and the distributional form of the stochastic fluctuations around the deterministic number µ during this convergence. For large enough n, the distribution of Sn (sample average) is close to the normal distribution with mean µ and variance σ2/n"
   ]
  },
  {
   "cell_type": "code",
   "execution_count": 301,
   "metadata": {
    "collapsed": false,
    "deletable": true,
    "editable": true
   },
   "outputs": [
    {
     "data": {
      "text/plain": [
       "(array([  4.,   6.,  12.,  23.,  22.,  37.,  77.,  91., 153., 180., 227.,\n",
       "        326., 366., 410., 481., 560., 589., 623., 605., 642., 618., 577.,\n",
       "        520., 465., 448., 351., 322., 279., 223., 176., 134.,  92.,  91.,\n",
       "         84.,  49.,  39.,  26.,  24.,  12.,   8.,   7.,   7.,   1.,   5.,\n",
       "          3.,   2.,   2.,   0.,   0.,   1.]),\n",
       " array([1.32293908, 1.33787089, 1.3528027 , 1.36773451, 1.38266632,\n",
       "        1.39759813, 1.41252994, 1.42746175, 1.44239357, 1.45732538,\n",
       "        1.47225719, 1.487189  , 1.50212081, 1.51705262, 1.53198443,\n",
       "        1.54691624, 1.56184806, 1.57677987, 1.59171168, 1.60664349,\n",
       "        1.6215753 , 1.63650711, 1.65143892, 1.66637073, 1.68130254,\n",
       "        1.69623436, 1.71116617, 1.72609798, 1.74102979, 1.7559616 ,\n",
       "        1.77089341, 1.78582522, 1.80075703, 1.81568884, 1.83062066,\n",
       "        1.84555247, 1.86048428, 1.87541609, 1.8903479 , 1.90527971,\n",
       "        1.92021152, 1.93514333, 1.95007514, 1.96500696, 1.97993877,\n",
       "        1.99487058, 2.00980239, 2.0247342 , 2.03966601, 2.05459782,\n",
       "        2.06952963]),\n",
       " <a list of 50 Patch objects>)"
      ]
     },
     "execution_count": 301,
     "metadata": {},
     "output_type": "execute_result"
    },
    {
     "data": {
      "image/png": "[encoded data removed]",
      "text/plain": [
       "<Figure size 432x288 with 1 Axes>"
      ]
     },
     "metadata": {},
     "output_type": "display_data"
    }
   ],
   "source": [
    "sample_size = 600\n",
    "\n",
    "avg_samples = []\n",
    "for i in range(10000):\n",
    "    sample = np.random.choice(population, sample_size)\n",
    "    avg_samples.append(np.mean(sample))\n",
    "\n",
    "plt.hist(avg_samples, bins=50)"
   ]
  },
  {
   "cell_type": "code",
   "execution_count": 302,
   "metadata": {
    "collapsed": false,
    "deletable": true,
    "editable": true
   },
   "outputs": [
    {
     "name": "stdout",
     "output_type": "stream",
     "text": [
      "mean 1.6154383851855803\n",
      "std 0.09640508065372856\n"
     ]
    }
   ],
   "source": [
    "print_statistics(avg_samples)"
   ]
  },
  {
   "cell_type": "markdown",
   "metadata": {
    "deletable": true,
    "editable": true
   },
   "source": [
    "The mean gets even closer to the population mean (mu) by increasing the sample size. The standard deviation of the sampling distribution of the sample mean becomes smaller, which means that we are less uncertain about the mean. The distribution itself becomes more normal."
   ]
  },
  {
   "cell_type": "markdown",
   "metadata": {
    "deletable": true,
    "editable": true
   },
   "source": [
    "We can estimate the standard deviation of the population (sigma) if we know the standard deviation of the sampling distribution SE."
   ]
  },
  {
   "cell_type": "code",
   "execution_count": 309,
   "metadata": {
    "collapsed": false,
    "deletable": true,
    "editable": true
   },
   "outputs": [
    {
     "name": "stdout",
     "output_type": "stream",
     "text": [
      "sigma 2.362746585006881 sigma_est 2.3614325621349312\n"
     ]
    }
   ],
   "source": [
    "SE = np.std(avg_samples)\n",
    "sigma_est = SE * np.sqrt(sample_size)\n",
    "print('sigma', np.std(population), 'sigma_est', sigma_est)"
   ]
  },
  {
   "cell_type": "markdown",
   "metadata": {
    "deletable": true,
    "editable": true
   },
   "source": [
    "### The shape of the sampling distribution\n",
    "\n",
    "When a population is not normally distributed, the sampling distribution of the sample mean depends on the sample size.\n",
    "For larger samples (n≥30), the central limit theorem tells us that the sampling distribution of the sample mean will be approximately normal regardless of the shape of the parent population.\n",
    "Therefore, the mean of the sampling distribution of the sample mean is equal to the true population mean."
   ]
  }
 ],
 "metadata": {
  "kernelspec": {
   "display_name": "Python 3",
   "language": "python",
   "name": "python3"
  },
  "language_info": {
   "codemirror_mode": {
    "name": "ipython",
    "version": 3
   },
   "file_extension": ".py",
   "mimetype": "text/x-python",
   "name": "python",
   "nbconvert_exporter": "python",
   "pygments_lexer": "ipython3",
   "version": "3.6.4"
  }
 },
 "nbformat": 4,
 "nbformat_minor": 2
}
